{
 "cells": [
  {
   "cell_type": "code",
   "execution_count": null,
   "id": "ca56a5f2",
   "metadata": {},
   "outputs": [],
   "source": [
    "#Import necessary packages\n",
    "import requests\n",
    "from bs4 import BeautifulSoup\n",
    "import pandas as pd\n",
    "\n"
   ]
  },
  {
   "cell_type": "code",
   "execution_count": null,
   "id": "6e012778",
   "metadata": {},
   "outputs": [
    {
     "data": {
      "text/plain": [
       "'Final'"
      ]
     },
     "execution_count": 275,
     "metadata": {},
     "output_type": "execute_result"
    }
   ],
   "source": [
    "#make the python's request look like it is from a real computer (supposedly...)\n",
    "headers = {\n",
    "    \"User-Agent\": \"Mozilla/5.0 (Macintosh; Intel Mac OS X 10_15_7)\",\n",
    "    \"Accept-Language\": \"en-US,en;q=0.9\"\n",
    "}\n",
    "#this url for 2025 World Open\n",
    "url = 'https://cuetracker.net/tournaments/world-open/2025/6445'\n",
    "response = requests.get(url, headers=headers)\n",
    "soup = BeautifulSoup(response.text, 'html.parser')\n",
    "#response 200 means successful!\n",
    "print(response)\n"
   ]
  },
  {
   "cell_type": "code",
   "execution_count": null,
   "id": "aa04c282",
   "metadata": {},
   "outputs": [],
   "source": [
    "#The following scrapes all matches using the keyword \"match\" since they are split into \"match row odd\" and \"match row even\"\n",
    "\n",
    "#Create a pandas dataframe with the following column names.\n",
    "matches_df = pd.DataFrame(columns = ['Player1', 'Player2', 'Score1','Score2','Best Of', 'Round Name', 'Tournament Name'])\n",
    "\n",
    "#All matches are stroed under div, class name \"match row even\" or \"match row odd\".\n",
    "#In any case .find_all(\"div\", class_ = \"match\") will find all class names containing the string \"match\"\n",
    "all_matches = soup.find_all(\"div\", class_ = \"match\")\n",
    "\n",
    "#Get the tournament name.\n",
    "tournament_name = soup.find(\"h1\", class_ = \"text-center\")\n",
    "#Get rid of all invisible characters\n",
    "#A small thing to note is that .find_all returns a list and doesn't have .text method, so we have to loop through it to use \n",
    "#.text method\n",
    "tournament_name_str = [tournament_name.text.strip()]\n",
    "#Couter for writing row data into dataframe row-by-row.\n",
    "count = 0\n",
    "\n",
    "#.find_all returns a list, we are looping through this list\n",
    "for match in all_matches:\n",
    "    #Initialize empty list, which is going to hold data from each match\n",
    "    match_data = []\n",
    "\n",
    "    #Players names are under this class name, I took a portion of the class name because it is common for both players.\n",
    "    #You can F12 check the website to see specific names\n",
    "    players_names = match.find_all(\"div\", class_ = \"matchResultText\")\n",
    "\n",
    "    for player_name in players_names:\n",
    "        # Turn the string into a list, so .extend works properly, o.w. it extends character-by-character\n",
    "        player = [player_name.text.strip()]\n",
    "        match_data.extend(player)\n",
    "\n",
    "    #Same thing here, the actual scores are under 'span'\n",
    "    players_scores = match.find_all(\"span\", class_ = \"matchResultText\")\n",
    "\n",
    "    for scores in players_scores:\n",
    "        score = [scores.text.strip()]\n",
    "        match_data.extend(score)\n",
    "\n",
    "    #The parentheses () is interpreted as negative sign in excel, so just get rid of \"()\"\n",
    "    best_of = [match.find(\"span\", class_ = \"best_of\").text.strip(\"()\")]\n",
    "    match_data.extend(best_of)\n",
    "\n",
    "    #This for getting the stage, e.g., Final, Semi-Final, etc.\n",
    "    round_name = [match.find(\"h5\").text.strip()]\n",
    "    match_data.extend(round_name)\n",
    "\n",
    "    \n",
    "    # I don't quite know how to handle non-played(walkover) matches as they don't have a \"Played On\" date\n",
    "    # Obviously the following doesn't work somehow\n",
    "    # match_date = match.find(\"div\", class_ = \"col-12 played_on\")\n",
    "    # if match_date is None:\n",
    "    #     match_date_str = []\n",
    "    # else:\n",
    "    #     match_date_str = [match_date.text.strip()]\n",
    "\n",
    "    # match_data.extend(match_date_str)\n",
    "\n",
    "    #Put the tournament name in the last column\n",
    "    match_data.extend(tournament_name_str)\n",
    "    \n",
    "    #Write this data into one row in the dataframe\n",
    "    matches_df.loc[count] = match_data\n",
    "    count+=1\n",
    "\n",
    "#You need to change the file path to your actual path.\n",
    "matches_df.to_csv(f'/Users/huangpubo/Documents/Erdos/EloRatingProject/{tournament_name_str[0]}-all-matches.csv')\n",
    "    "
   ]
  },
  {
   "cell_type": "code",
   "execution_count": 261,
   "id": "dd2550ef",
   "metadata": {},
   "outputs": [
    {
     "name": "stdout",
     "output_type": "stream",
     "text": [
      "['(35)']\n"
     ]
    }
   ],
   "source": [
    "ls = []\n",
    "bestof = [match.find(\"span\", class_ = \"best_of\").text]\n",
    "ls.extend(bestof)\n",
    "print (ls)"
   ]
  },
  {
   "cell_type": "code",
   "execution_count": 235,
   "id": "4bdaf741",
   "metadata": {},
   "outputs": [
    {
     "name": "stdout",
     "output_type": "stream",
     "text": [
      "<Response [200]>\n"
     ]
    }
   ],
   "source": [
    "url = 'https://cuetracker.net/tournaments/2024'\n",
    "headers = {\n",
    "    \"User-Agent\": \"Mozilla/5.0 (Macintosh; Intel Mac OS X 10_15_7)\",\n",
    "    \"Accept-Language\": \"en-US,en;q=0.9\"\n",
    "}\n",
    "response = requests.get(url, headers=headers)\n",
    "print(response)\n",
    "soup = BeautifulSoup(response.text, 'html.parser')\n"
   ]
  },
  {
   "cell_type": "code",
   "execution_count": null,
   "id": "8c9fbde7",
   "metadata": {},
   "outputs": [
    {
     "name": "stdout",
     "output_type": "stream",
     "text": [
      "<Response [200]>\n"
     ]
    }
   ],
   "source": [
    "#this for Matches Won - Year 2025 under the Statistics tab\n",
    "url = 'https://cuetracker.net/statistics/matches-and-frames/won/year/2025'\n",
    "headers = {\n",
    "    \"User-Agent\": \"Mozilla/5.0 (Macintosh; Intel Mac OS X 10_15_7)\",\n",
    "    \"Accept-Language\": \"en-US,en;q=0.9\"\n",
    "}\n",
    "response = requests.get(url, headers=headers)\n",
    "print(response)\n",
    "soup = BeautifulSoup(response.text, 'html.parser')\n"
   ]
  },
  {
   "cell_type": "code",
   "execution_count": 31,
   "id": "a33a0916",
   "metadata": {},
   "outputs": [],
   "source": [
    "#initialize empty dataframe\n",
    "players_stat = pd.DataFrame(columns=['Name', 'Tournaments Played', 'Matches Played', 'Matches Won', 'Match-win percentage'])\n",
    "matches_won_for_players = soup.find_all(\"tr\")\n",
    "title = soup.find(\"h1\").text.strip()\n",
    "current_row_num = 0\n",
    "for player in matches_won_for_players:\n",
    "\n",
    "    #all data are stored under td tags and in the order name, tournaments played, matches played, matches won, and match-win percentage\n",
    "    row_data = player.find_all(\"td\")\n",
    "\n",
    "    texts = [data.text.strip() for data in row_data]\n",
    "    texts = texts[1::] #removes the first empty string\n",
    "    \n",
    "    players_stat.loc[current_row_num] = texts\n",
    "\n",
    "    current_row_num+=1\n",
    "\n",
    "players_stat.to_csv(f'/Users/huangpubo/Documents/Erdos/EloRatingProject/{title}.csv')\n"
   ]
  },
  {
   "cell_type": "code",
   "execution_count": null,
   "id": "1fb58012",
   "metadata": {},
   "outputs": [],
   "source": []
  }
 ],
 "metadata": {
  "kernelspec": {
   "display_name": "erdos-elo",
   "language": "python",
   "name": "python3"
  },
  "language_info": {
   "codemirror_mode": {
    "name": "ipython",
    "version": 3
   },
   "file_extension": ".py",
   "mimetype": "text/x-python",
   "name": "python",
   "nbconvert_exporter": "python",
   "pygments_lexer": "ipython3",
   "version": "3.11.11"
  }
 },
 "nbformat": 4,
 "nbformat_minor": 5
}
