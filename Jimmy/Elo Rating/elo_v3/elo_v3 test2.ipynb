{
 "cells": [
  {
   "cell_type": "code",
   "execution_count": 1,
   "id": "19fda573",
   "metadata": {},
   "outputs": [],
   "source": [
    "import pandas as pd\n",
    "import numpy as np"
   ]
  },
  {
   "cell_type": "code",
   "execution_count": 2,
   "id": "0152c974",
   "metadata": {},
   "outputs": [],
   "source": [
    "matches = pd.read_csv('/Users/tliu/Desktop/Erdos Project/Data/matches.csv')"
   ]
  },
  {
   "cell_type": "code",
   "execution_count": 3,
   "id": "deeec653",
   "metadata": {},
   "outputs": [
    {
     "data": {
      "text/html": [
       "<div>\n",
       "<style scoped>\n",
       "    .dataframe tbody tr th:only-of-type {\n",
       "        vertical-align: middle;\n",
       "    }\n",
       "\n",
       "    .dataframe tbody tr th {\n",
       "        vertical-align: top;\n",
       "    }\n",
       "\n",
       "    .dataframe thead th {\n",
       "        text-align: right;\n",
       "    }\n",
       "</style>\n",
       "<table border=\"1\" class=\"dataframe\">\n",
       "  <thead>\n",
       "    <tr style=\"text-align: right;\">\n",
       "      <th></th>\n",
       "      <th>player1</th>\n",
       "      <th>player2</th>\n",
       "      <th>score1</th>\n",
       "      <th>score2</th>\n",
       "      <th>best_of</th>\n",
       "      <th>tournament_id</th>\n",
       "      <th>date</th>\n",
       "      <th>year</th>\n",
       "    </tr>\n",
       "  </thead>\n",
       "  <tbody>\n",
       "    <tr>\n",
       "      <th>0</th>\n",
       "      <td>Colin Roscoe</td>\n",
       "      <td>Jackie Rea</td>\n",
       "      <td>9</td>\n",
       "      <td>6</td>\n",
       "      <td>17</td>\n",
       "      <td>753</td>\n",
       "      <td>NaN</td>\n",
       "      <td>1982</td>\n",
       "    </tr>\n",
       "    <tr>\n",
       "      <th>1</th>\n",
       "      <td>Tommy Murphy</td>\n",
       "      <td>Clive Everton</td>\n",
       "      <td>9</td>\n",
       "      <td>4</td>\n",
       "      <td>17</td>\n",
       "      <td>753</td>\n",
       "      <td>NaN</td>\n",
       "      <td>1982</td>\n",
       "    </tr>\n",
       "    <tr>\n",
       "      <th>2</th>\n",
       "      <td>Vic Harris</td>\n",
       "      <td>Marcus Owen</td>\n",
       "      <td>9</td>\n",
       "      <td>4</td>\n",
       "      <td>17</td>\n",
       "      <td>753</td>\n",
       "      <td>NaN</td>\n",
       "      <td>1982</td>\n",
       "    </tr>\n",
       "    <tr>\n",
       "      <th>3</th>\n",
       "      <td>Bob Harris</td>\n",
       "      <td>Graham Cripsey</td>\n",
       "      <td>9</td>\n",
       "      <td>6</td>\n",
       "      <td>17</td>\n",
       "      <td>753</td>\n",
       "      <td>NaN</td>\n",
       "      <td>1982</td>\n",
       "    </tr>\n",
       "    <tr>\n",
       "      <th>4</th>\n",
       "      <td>Geoff Foulds</td>\n",
       "      <td>Matt Gibson</td>\n",
       "      <td>9</td>\n",
       "      <td>3</td>\n",
       "      <td>17</td>\n",
       "      <td>753</td>\n",
       "      <td>NaN</td>\n",
       "      <td>1982</td>\n",
       "    </tr>\n",
       "  </tbody>\n",
       "</table>\n",
       "</div>"
      ],
      "text/plain": [
       "        player1         player2  score1  score2  best_of  tournament_id date  \\\n",
       "0  Colin Roscoe      Jackie Rea       9       6       17            753  NaN   \n",
       "1  Tommy Murphy   Clive Everton       9       4       17            753  NaN   \n",
       "2    Vic Harris     Marcus Owen       9       4       17            753  NaN   \n",
       "3    Bob Harris  Graham Cripsey       9       6       17            753  NaN   \n",
       "4  Geoff Foulds     Matt Gibson       9       3       17            753  NaN   \n",
       "\n",
       "   year  \n",
       "0  1982  \n",
       "1  1982  \n",
       "2  1982  \n",
       "3  1982  \n",
       "4  1982  "
      ]
     },
     "execution_count": 3,
     "metadata": {},
     "output_type": "execute_result"
    }
   ],
   "source": [
    "matches.head()"
   ]
  },
  {
   "cell_type": "code",
   "execution_count": 4,
   "id": "85f32981",
   "metadata": {},
   "outputs": [
    {
     "name": "stderr",
     "output_type": "stream",
     "text": [
      "/Users/tliu/Desktop/Erdos Project/Elo Rating/elo_v3/elo_v3.py:120: FutureWarning: Downcasting object dtype arrays on .fillna, .ffill, .bfill is deprecated and will change in a future version. Call result.infer_objects(copy=False) instead. To opt-in to the future behavior, set `pd.set_option('future.no_silent_downcasting', True)`\n",
      "  self.stats_by_years.fillna(0, inplace = True)\n",
      "/var/folders/pd/b57yb11s57b55h2t3r3c8q1r0000gn/T/ipykernel_3168/1055904842.py:27: SettingWithCopyWarning: \n",
      "A value is trying to be set on a copy of a slice from a DataFrame.\n",
      "Try using .loc[row_indexer,col_indexer] = value instead\n",
      "\n",
      "See the caveats in the documentation: https://pandas.pydata.org/pandas-docs/stable/user_guide/indexing.html#returning-a-view-versus-a-copy\n",
      "  matches_future['result'] = 0\n",
      "/Users/tliu/Desktop/Erdos Project/Elo Rating/elo_v3/elo_v3.py:120: FutureWarning: Downcasting object dtype arrays on .fillna, .ffill, .bfill is deprecated and will change in a future version. Call result.infer_objects(copy=False) instead. To opt-in to the future behavior, set `pd.set_option('future.no_silent_downcasting', True)`\n",
      "  self.stats_by_years.fillna(0, inplace = True)\n",
      "/var/folders/pd/b57yb11s57b55h2t3r3c8q1r0000gn/T/ipykernel_3168/1055904842.py:27: SettingWithCopyWarning: \n",
      "A value is trying to be set on a copy of a slice from a DataFrame.\n",
      "Try using .loc[row_indexer,col_indexer] = value instead\n",
      "\n",
      "See the caveats in the documentation: https://pandas.pydata.org/pandas-docs/stable/user_guide/indexing.html#returning-a-view-versus-a-copy\n",
      "  matches_future['result'] = 0\n",
      "/Users/tliu/Desktop/Erdos Project/Elo Rating/elo_v3/elo_v3.py:120: FutureWarning: Downcasting object dtype arrays on .fillna, .ffill, .bfill is deprecated and will change in a future version. Call result.infer_objects(copy=False) instead. To opt-in to the future behavior, set `pd.set_option('future.no_silent_downcasting', True)`\n",
      "  self.stats_by_years.fillna(0, inplace = True)\n",
      "/var/folders/pd/b57yb11s57b55h2t3r3c8q1r0000gn/T/ipykernel_3168/1055904842.py:27: SettingWithCopyWarning: \n",
      "A value is trying to be set on a copy of a slice from a DataFrame.\n",
      "Try using .loc[row_indexer,col_indexer] = value instead\n",
      "\n",
      "See the caveats in the documentation: https://pandas.pydata.org/pandas-docs/stable/user_guide/indexing.html#returning-a-view-versus-a-copy\n",
      "  matches_future['result'] = 0\n"
     ]
    }
   ],
   "source": [
    "#Using matches history of before 202x to predict matches in 202x\n",
    "from elo_v3 import elo_rating\n",
    "from sklearn.metrics import accuracy_score\n",
    "\n",
    "tournaments = list(matches.tournament_id.unique())\n",
    "\n",
    "nth = [750, 800, 1080]\n",
    "scores = np.zeros((3,1))\n",
    "\n",
    "\n",
    "i=0\n",
    "for n in nth:\n",
    "    for j in range(1):\n",
    "        past_tournaments = tournaments[:n]\n",
    "        current = tournaments[n]\n",
    "        past_index = matches['tournament_id'].map(lambda x: x in past_tournaments)\n",
    "        \n",
    "\n",
    "        matches_past = matches[past_index]\n",
    "        matches_future = matches[matches['tournament_id'] == current]\n",
    "\n",
    "        #Update statistics of players\n",
    "        elo = elo_rating()\n",
    "        elo.update_stats(matches = matches_past)\n",
    "\n",
    "        #Store the actual result in y\n",
    "        matches_future['result'] = 0  \n",
    "        y = np.array(matches_future['result'])\n",
    "\n",
    "        #Making prediction\n",
    "        X = matches_future[['player1', 'player2', 'best_of']]\n",
    "        prediction, _ = elo.predict(X)\n",
    "\n",
    "        #Record the accuracy score\n",
    "        from sklearn.metrics import accuracy_score\n",
    "        scores[i,j] = accuracy_score(prediction, y)\n",
    "        \n",
    "        j += 1\n",
    "    i+=1\n",
    "\n",
    "\n"
   ]
  },
  {
   "cell_type": "code",
   "execution_count": 5,
   "id": "5b529124",
   "metadata": {},
   "outputs": [
    {
     "name": "stdout",
     "output_type": "stream",
     "text": [
      "[[0.72222222]\n",
      " [0.71428571]\n",
      " [0.73239437]]\n"
     ]
    }
   ],
   "source": [
    "print(scores)"
   ]
  },
  {
   "cell_type": "markdown",
   "id": "1f644d7f",
   "metadata": {},
   "source": [
    "The prediction accuracies for 750th, 800th and 1080th are 0.72, 0,71 and 0.73.\n",
    "Recall the average accuracies using rankings are 0.56031746, 0.5952381 , 0.49577465. See details in 'Baseline/baseline1/baseline1.ipynb'.  \n",
    "Our elo system has significantly higher prediction accuracy."
   ]
  },
  {
   "cell_type": "markdown",
   "id": "1c934355",
   "metadata": {},
   "source": []
  }
 ],
 "metadata": {
  "kernelspec": {
   "display_name": "erdos_summer_2025",
   "language": "python",
   "name": "python3"
  },
  "language_info": {
   "codemirror_mode": {
    "name": "ipython",
    "version": 3
   },
   "file_extension": ".py",
   "mimetype": "text/x-python",
   "name": "python",
   "nbconvert_exporter": "python",
   "pygments_lexer": "ipython3",
   "version": "3.12.10"
  }
 },
 "nbformat": 4,
 "nbformat_minor": 5
}
