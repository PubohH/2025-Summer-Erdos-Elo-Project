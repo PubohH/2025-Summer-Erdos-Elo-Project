{
 "cells": [
  {
   "cell_type": "code",
   "execution_count": 1,
   "id": "341abd34",
   "metadata": {},
   "outputs": [],
   "source": [
    "import pandas as pd\n",
    "import numpy as np"
   ]
  },
  {
   "cell_type": "code",
   "execution_count": 2,
   "id": "c78683f9",
   "metadata": {},
   "outputs": [],
   "source": [
    "matches = pd.read_csv('/Users/tliu/Desktop/Erdos Project/Data/matches.csv')"
   ]
  },
  {
   "cell_type": "code",
   "execution_count": 3,
   "id": "cc0371d6",
   "metadata": {},
   "outputs": [
    {
     "data": {
      "text/html": [
       "<div>\n",
       "<style scoped>\n",
       "    .dataframe tbody tr th:only-of-type {\n",
       "        vertical-align: middle;\n",
       "    }\n",
       "\n",
       "    .dataframe tbody tr th {\n",
       "        vertical-align: top;\n",
       "    }\n",
       "\n",
       "    .dataframe thead th {\n",
       "        text-align: right;\n",
       "    }\n",
       "</style>\n",
       "<table border=\"1\" class=\"dataframe\">\n",
       "  <thead>\n",
       "    <tr style=\"text-align: right;\">\n",
       "      <th></th>\n",
       "      <th>player1</th>\n",
       "      <th>player2</th>\n",
       "      <th>score1</th>\n",
       "      <th>score2</th>\n",
       "      <th>best_of</th>\n",
       "      <th>tournament_id</th>\n",
       "      <th>date</th>\n",
       "    </tr>\n",
       "  </thead>\n",
       "  <tbody>\n",
       "    <tr>\n",
       "      <th>0</th>\n",
       "      <td>Colin Roscoe</td>\n",
       "      <td>Jackie Rea</td>\n",
       "      <td>9</td>\n",
       "      <td>6</td>\n",
       "      <td>17</td>\n",
       "      <td>753</td>\n",
       "      <td>NaN</td>\n",
       "    </tr>\n",
       "    <tr>\n",
       "      <th>1</th>\n",
       "      <td>Tommy Murphy</td>\n",
       "      <td>Clive Everton</td>\n",
       "      <td>9</td>\n",
       "      <td>4</td>\n",
       "      <td>17</td>\n",
       "      <td>753</td>\n",
       "      <td>NaN</td>\n",
       "    </tr>\n",
       "    <tr>\n",
       "      <th>2</th>\n",
       "      <td>Vic Harris</td>\n",
       "      <td>Marcus Owen</td>\n",
       "      <td>9</td>\n",
       "      <td>4</td>\n",
       "      <td>17</td>\n",
       "      <td>753</td>\n",
       "      <td>NaN</td>\n",
       "    </tr>\n",
       "    <tr>\n",
       "      <th>3</th>\n",
       "      <td>Bob Harris</td>\n",
       "      <td>Graham Cripsey</td>\n",
       "      <td>9</td>\n",
       "      <td>6</td>\n",
       "      <td>17</td>\n",
       "      <td>753</td>\n",
       "      <td>NaN</td>\n",
       "    </tr>\n",
       "    <tr>\n",
       "      <th>4</th>\n",
       "      <td>Geoff Foulds</td>\n",
       "      <td>Matt Gibson</td>\n",
       "      <td>9</td>\n",
       "      <td>3</td>\n",
       "      <td>17</td>\n",
       "      <td>753</td>\n",
       "      <td>NaN</td>\n",
       "    </tr>\n",
       "  </tbody>\n",
       "</table>\n",
       "</div>"
      ],
      "text/plain": [
       "        player1         player2  score1  score2  best_of  tournament_id date\n",
       "0  Colin Roscoe      Jackie Rea       9       6       17            753  NaN\n",
       "1  Tommy Murphy   Clive Everton       9       4       17            753  NaN\n",
       "2    Vic Harris     Marcus Owen       9       4       17            753  NaN\n",
       "3    Bob Harris  Graham Cripsey       9       6       17            753  NaN\n",
       "4  Geoff Foulds     Matt Gibson       9       3       17            753  NaN"
      ]
     },
     "execution_count": 3,
     "metadata": {},
     "output_type": "execute_result"
    }
   ],
   "source": [
    "matches.head()"
   ]
  },
  {
   "cell_type": "code",
   "execution_count": 4,
   "id": "a797e88c",
   "metadata": {},
   "outputs": [],
   "source": [
    "#Get elo-rating for players based on match history from 1982 to 2025\n",
    "from elo_v1 import get_elo\n",
    "rating = get_elo(matches)"
   ]
  },
  {
   "cell_type": "code",
   "execution_count": 5,
   "id": "cb980c65",
   "metadata": {},
   "outputs": [
    {
     "data": {
      "text/plain": [
       "Judd Trump       1380.947218\n",
       "Zhao Xintong     1376.238529\n",
       "Stephen Lee      1374.198772\n",
       "Mark Selby       1363.438202\n",
       "John Higgins     1321.879571\n",
       "Kyren Wilson     1314.882301\n",
       "Yan Bingtao      1295.685899\n",
       "Mark Williams    1286.389807\n",
       "Pankaj Advani    1282.784596\n",
       "Barry Hawkins    1268.104070\n",
       "dtype: float64"
      ]
     },
     "execution_count": 5,
     "metadata": {},
     "output_type": "execute_result"
    }
   ],
   "source": [
    "rating.sort_values(ascending=False).head(10)"
   ]
  },
  {
   "cell_type": "code",
   "execution_count": 6,
   "id": "9314480e",
   "metadata": {},
   "outputs": [
    {
     "data": {
      "text/plain": [
       "Reanne Evans       -267.654938\n",
       "Bert Demarco       -269.627545\n",
       "Fred Davis         -364.864290\n",
       "Mike Darrington    -367.290838\n",
       "Anthony Bridge     -379.762933\n",
       "Dennis Hughes      -380.319922\n",
       "Dessie Sheehan     -451.667445\n",
       "Bernard Bennett    -523.852257\n",
       "Clive Everton      -541.067990\n",
       "Jack Fitzmaurice   -673.168311\n",
       "dtype: float64"
      ]
     },
     "execution_count": 6,
     "metadata": {},
     "output_type": "execute_result"
    }
   ],
   "source": [
    "rating.sort_values(ascending=False).tail(10)"
   ]
  },
  {
   "cell_type": "code",
   "execution_count": 7,
   "id": "4158d97c",
   "metadata": {},
   "outputs": [],
   "source": [
    "from elo_v1 import predict_prob, predict"
   ]
  },
  {
   "cell_type": "code",
   "execution_count": 8,
   "id": "bc32276f",
   "metadata": {},
   "outputs": [
    {
     "data": {
      "text/plain": [
       "np.float64(0.9191846242940965)"
      ]
     },
     "execution_count": 8,
     "metadata": {},
     "output_type": "execute_result"
    }
   ],
   "source": [
    "E1 = predict_prob('Judd Trump', 'Colin Roscoe', rating=rating)\n",
    "E1"
   ]
  },
  {
   "cell_type": "code",
   "execution_count": 9,
   "id": "8fb6779f",
   "metadata": {},
   "outputs": [
    {
     "name": "stdout",
     "output_type": "stream",
     "text": [
      "Our prediction: winner is Judd Trump. Score is 5-6.\n"
     ]
    },
    {
     "data": {
      "text/plain": [
       "(np.int64(5), 6, 'Judd Trump')"
      ]
     },
     "execution_count": 9,
     "metadata": {},
     "output_type": "execute_result"
    }
   ],
   "source": [
    "predict('Mark Williams', 'Judd Trump', rating, 11)"
   ]
  }
 ],
 "metadata": {
  "kernelspec": {
   "display_name": "erdos_summer_2025",
   "language": "python",
   "name": "python3"
  },
  "language_info": {
   "codemirror_mode": {
    "name": "ipython",
    "version": 3
   },
   "file_extension": ".py",
   "mimetype": "text/x-python",
   "name": "python",
   "nbconvert_exporter": "python",
   "pygments_lexer": "ipython3",
   "version": "3.12.10"
  }
 },
 "nbformat": 4,
 "nbformat_minor": 5
}
