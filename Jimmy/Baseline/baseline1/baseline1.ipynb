{
 "cells": [
  {
   "cell_type": "markdown",
   "id": "5715114b",
   "metadata": {},
   "source": [
    "In this notebook, we build a baseline prediction algorithm to predict the result of professional snookers matches using players' ranking from previous years."
   ]
  },
  {
   "cell_type": "code",
   "execution_count": 1,
   "id": "7c1a2718",
   "metadata": {},
   "outputs": [],
   "source": [
    "import pandas as pd\n",
    "import numpy as np\n",
    "import random"
   ]
  },
  {
   "cell_type": "code",
   "execution_count": 2,
   "id": "b688e5c3",
   "metadata": {},
   "outputs": [],
   "source": [
    "rankings = pd.read_csv('World_Rankings.csv')"
   ]
  },
  {
   "cell_type": "code",
   "execution_count": 3,
   "id": "d9cc688d",
   "metadata": {},
   "outputs": [
    {
     "data": {
      "text/html": [
       "<div>\n",
       "<style scoped>\n",
       "    .dataframe tbody tr th:only-of-type {\n",
       "        vertical-align: middle;\n",
       "    }\n",
       "\n",
       "    .dataframe tbody tr th {\n",
       "        vertical-align: top;\n",
       "    }\n",
       "\n",
       "    .dataframe thead th {\n",
       "        text-align: right;\n",
       "    }\n",
       "</style>\n",
       "<table border=\"1\" class=\"dataframe\">\n",
       "  <thead>\n",
       "    <tr style=\"text-align: right;\">\n",
       "      <th></th>\n",
       "      <th>Year</th>\n",
       "      <th>First_Name</th>\n",
       "      <th>Surnames</th>\n",
       "      <th>Ranking</th>\n",
       "      <th>Points</th>\n",
       "    </tr>\n",
       "  </thead>\n",
       "  <tbody>\n",
       "    <tr>\n",
       "      <th>0</th>\n",
       "      <td>1981</td>\n",
       "      <td>Bill</td>\n",
       "      <td>Werbeniuk</td>\n",
       "      <td>9</td>\n",
       "      <td>0</td>\n",
       "    </tr>\n",
       "    <tr>\n",
       "      <th>1</th>\n",
       "      <td>1981</td>\n",
       "      <td>Eddie</td>\n",
       "      <td>Charlton</td>\n",
       "      <td>8</td>\n",
       "      <td>0</td>\n",
       "    </tr>\n",
       "    <tr>\n",
       "      <th>2</th>\n",
       "      <td>1981</td>\n",
       "      <td>David</td>\n",
       "      <td>Taylor</td>\n",
       "      <td>7</td>\n",
       "      <td>0</td>\n",
       "    </tr>\n",
       "    <tr>\n",
       "      <th>3</th>\n",
       "      <td>1981</td>\n",
       "      <td>Doug</td>\n",
       "      <td>Mountjoy</td>\n",
       "      <td>6</td>\n",
       "      <td>0</td>\n",
       "    </tr>\n",
       "    <tr>\n",
       "      <th>4</th>\n",
       "      <td>1981</td>\n",
       "      <td>Dennis</td>\n",
       "      <td>Taylor</td>\n",
       "      <td>5</td>\n",
       "      <td>0</td>\n",
       "    </tr>\n",
       "  </tbody>\n",
       "</table>\n",
       "</div>"
      ],
      "text/plain": [
       "   Year First_Name   Surnames Ranking Points\n",
       "0  1981       Bill  Werbeniuk       9      0\n",
       "1  1981      Eddie   Charlton       8      0\n",
       "2  1981      David     Taylor       7      0\n",
       "3  1981       Doug   Mountjoy       6      0\n",
       "4  1981     Dennis     Taylor       5      0"
      ]
     },
     "execution_count": 3,
     "metadata": {},
     "output_type": "execute_result"
    }
   ],
   "source": [
    "rankings.head()"
   ]
  },
  {
   "cell_type": "markdown",
   "id": "35206f53",
   "metadata": {},
   "source": []
  },
  {
   "cell_type": "code",
   "execution_count": 4,
   "id": "5dc82d94",
   "metadata": {},
   "outputs": [],
   "source": [
    "#A function search for the ranking with given name and year\n",
    "#We will use this function in our baseline model\n",
    "def find_rankings(year, name):\n",
    "    ranking = -1\n",
    "    last_name = name.split(' ')[-1]\n",
    "    df1 = rankings[rankings['Year'] == year]\n",
    "    df2 = df1[df1['Surnames'] == last_name]\n",
    "    for ind in df2.index:\n",
    "        full_name = df2.loc[ind, 'First_Name'].strip() + ' ' + df2.loc[ind, 'Surnames'].strip()\n",
    "        if full_name == name:\n",
    "            ranking = df2.loc[ind, 'Ranking']\n",
    "    \n",
    "    if ranking == -1:\n",
    "        return None\n",
    "    else:\n",
    "        return ranking\n"
   ]
  },
  {
   "cell_type": "code",
   "execution_count": 5,
   "id": "3dcbb6e5",
   "metadata": {},
   "outputs": [
    {
     "data": {
      "text/plain": [
       "'27'"
      ]
     },
     "execution_count": 5,
     "metadata": {},
     "output_type": "execute_result"
    }
   ],
   "source": [
    "find_rankings(2010, 'Judd Trump')"
   ]
  },
  {
   "cell_type": "code",
   "execution_count": 6,
   "id": "88dca287",
   "metadata": {},
   "outputs": [],
   "source": [
    "matches = pd.read_csv('/Users/tliu/Desktop/Erdos Project/Data/matches.csv')"
   ]
  },
  {
   "cell_type": "code",
   "execution_count": 7,
   "id": "a2a425b7",
   "metadata": {},
   "outputs": [
    {
     "data": {
      "text/html": [
       "<div>\n",
       "<style scoped>\n",
       "    .dataframe tbody tr th:only-of-type {\n",
       "        vertical-align: middle;\n",
       "    }\n",
       "\n",
       "    .dataframe tbody tr th {\n",
       "        vertical-align: top;\n",
       "    }\n",
       "\n",
       "    .dataframe thead th {\n",
       "        text-align: right;\n",
       "    }\n",
       "</style>\n",
       "<table border=\"1\" class=\"dataframe\">\n",
       "  <thead>\n",
       "    <tr style=\"text-align: right;\">\n",
       "      <th></th>\n",
       "      <th>player1</th>\n",
       "      <th>player2</th>\n",
       "      <th>score1</th>\n",
       "      <th>score2</th>\n",
       "      <th>best_of</th>\n",
       "      <th>tournament_id</th>\n",
       "      <th>date</th>\n",
       "      <th>year</th>\n",
       "    </tr>\n",
       "  </thead>\n",
       "  <tbody>\n",
       "    <tr>\n",
       "      <th>0</th>\n",
       "      <td>Colin Roscoe</td>\n",
       "      <td>Jackie Rea</td>\n",
       "      <td>9</td>\n",
       "      <td>6</td>\n",
       "      <td>17</td>\n",
       "      <td>753</td>\n",
       "      <td>NaN</td>\n",
       "      <td>1982</td>\n",
       "    </tr>\n",
       "    <tr>\n",
       "      <th>1</th>\n",
       "      <td>Tommy Murphy</td>\n",
       "      <td>Clive Everton</td>\n",
       "      <td>9</td>\n",
       "      <td>4</td>\n",
       "      <td>17</td>\n",
       "      <td>753</td>\n",
       "      <td>NaN</td>\n",
       "      <td>1982</td>\n",
       "    </tr>\n",
       "    <tr>\n",
       "      <th>2</th>\n",
       "      <td>Vic Harris</td>\n",
       "      <td>Marcus Owen</td>\n",
       "      <td>9</td>\n",
       "      <td>4</td>\n",
       "      <td>17</td>\n",
       "      <td>753</td>\n",
       "      <td>NaN</td>\n",
       "      <td>1982</td>\n",
       "    </tr>\n",
       "    <tr>\n",
       "      <th>3</th>\n",
       "      <td>Bob Harris</td>\n",
       "      <td>Graham Cripsey</td>\n",
       "      <td>9</td>\n",
       "      <td>6</td>\n",
       "      <td>17</td>\n",
       "      <td>753</td>\n",
       "      <td>NaN</td>\n",
       "      <td>1982</td>\n",
       "    </tr>\n",
       "    <tr>\n",
       "      <th>4</th>\n",
       "      <td>Geoff Foulds</td>\n",
       "      <td>Matt Gibson</td>\n",
       "      <td>9</td>\n",
       "      <td>3</td>\n",
       "      <td>17</td>\n",
       "      <td>753</td>\n",
       "      <td>NaN</td>\n",
       "      <td>1982</td>\n",
       "    </tr>\n",
       "  </tbody>\n",
       "</table>\n",
       "</div>"
      ],
      "text/plain": [
       "        player1         player2  score1  score2  best_of  tournament_id date  \\\n",
       "0  Colin Roscoe      Jackie Rea       9       6       17            753  NaN   \n",
       "1  Tommy Murphy   Clive Everton       9       4       17            753  NaN   \n",
       "2    Vic Harris     Marcus Owen       9       4       17            753  NaN   \n",
       "3    Bob Harris  Graham Cripsey       9       6       17            753  NaN   \n",
       "4  Geoff Foulds     Matt Gibson       9       3       17            753  NaN   \n",
       "\n",
       "   year  \n",
       "0  1982  \n",
       "1  1982  \n",
       "2  1982  \n",
       "3  1982  \n",
       "4  1982  "
      ]
     },
     "execution_count": 7,
     "metadata": {},
     "output_type": "execute_result"
    }
   ],
   "source": [
    "matches.head()"
   ]
  },
  {
   "cell_type": "code",
   "execution_count": 8,
   "id": "ead02556",
   "metadata": {},
   "outputs": [],
   "source": [
    "from sklearn.metrics import accuracy_score\n",
    "scores = np.zeros((3, 5))\n",
    "\n",
    "# There are 126 matches in the 750th tournament. They happened in 2013.\n",
    "# There are 126 matches in the 800th tournament. They happened in 2014.\n",
    "# There are 142 matches in the 1080th tournament. They happened in 2025.\n",
    "nth = [750, 800, 1080]\n",
    "\n",
    "tournaments = list(matches.tournament_id.unique())\n",
    "for k, n in enumerate(nth):\n",
    "    for j in range(5):\n",
    "        past_tournaments = tournaments[:n]\n",
    "        current = tournaments[n]\n",
    "        past_index = matches['tournament_id'].map(lambda x: x in past_tournaments)\n",
    "            \n",
    "\n",
    "        matches_past = matches[past_index]\n",
    "        matches_future = matches[matches['tournament_id'] == current]\n",
    "\n",
    "        #Store the actual winner\n",
    "        y = np.zeros(len(matches_future))\n",
    "\n",
    "        #Use last year's ranking to predict match result\n",
    "        year = matches_future.loc[matches_future.index[0], 'year']\n",
    "\n",
    "        #We only have rankings up to 2020. For matches after 2021, we use the ranking of 2020 to predict the results.\n",
    "        if year>2021:\n",
    "            year = 2021\n",
    "\n",
    "        prediction = np.zeros(len(matches_future))\n",
    "        i=0\n",
    "        not_found = 0\n",
    "        for ind in matches_future.index:\n",
    "            match = matches_future.loc[ind]\n",
    "            player1, player2 = match['player1'], match['player2']\n",
    "            ranking1, ranking2 = find_rankings(year-1, player1), find_rankings(year-1, player2)\n",
    "\n",
    "            if ranking1==None and ranking2==None:\n",
    "                prediction[i] = random.randint(0,1)\n",
    "                not_found += 1\n",
    "            \n",
    "            elif ranking1==None:\n",
    "                prediction[i] = 1\n",
    "            \n",
    "            elif ranking2==None:\n",
    "                prediction[i] = 0\n",
    "\n",
    "            elif ranking1 > ranking2:\n",
    "                prediction[i] = 0\n",
    "\n",
    "            else:\n",
    "                prediction[i]=1\n",
    "            \n",
    "            i+=1\n",
    "\n",
    "        scores[k,j] = accuracy_score(prediction, y)\n",
    "            \n",
    "        \n"
   ]
  },
  {
   "cell_type": "code",
   "execution_count": 9,
   "id": "62a22f79",
   "metadata": {},
   "outputs": [
    {
     "name": "stdout",
     "output_type": "stream",
     "text": [
      "The prediction accuracy for the 750th, 800th, 1080th tournaments are:\n",
      "[[0.56349206 0.56349206 0.55555556 0.56349206 0.55555556]\n",
      " [0.5952381  0.5952381  0.5952381  0.5952381  0.5952381 ]\n",
      " [0.46478873 0.52112676 0.53521127 0.5        0.45774648]]\n"
     ]
    }
   ],
   "source": [
    "print('The prediction accuracy for the 750th, 800th, 1080th tournaments are:')\n",
    "print(scores)"
   ]
  },
  {
   "cell_type": "code",
   "execution_count": 10,
   "id": "b396a1f1",
   "metadata": {},
   "outputs": [
    {
     "data": {
      "text/plain": [
       "array([0.56031746, 0.5952381 , 0.49577465])"
      ]
     },
     "execution_count": 10,
     "metadata": {},
     "output_type": "execute_result"
    }
   ],
   "source": [
    "np.mean(scores, axis = 1)"
   ]
  },
  {
   "cell_type": "markdown",
   "id": "910a9fdc",
   "metadata": {},
   "source": [
    "The prediction accuracies for 750th and 800th tournament are around 0.57 and 0.595. The prediction accuracy for 1080th is not consistent. We should expect that because it happens in 2025 but we only have rankings up to 2020 and we are using random number generators for matches with no ranking information."
   ]
  },
  {
   "cell_type": "markdown",
   "id": "5e2364da",
   "metadata": {},
   "source": []
  }
 ],
 "metadata": {
  "kernelspec": {
   "display_name": "erdos_summer_2025",
   "language": "python",
   "name": "python3"
  },
  "language_info": {
   "codemirror_mode": {
    "name": "ipython",
    "version": 3
   },
   "file_extension": ".py",
   "mimetype": "text/x-python",
   "name": "python",
   "nbconvert_exporter": "python",
   "pygments_lexer": "ipython3",
   "version": "3.12.10"
  }
 },
 "nbformat": 4,
 "nbformat_minor": 5
}
