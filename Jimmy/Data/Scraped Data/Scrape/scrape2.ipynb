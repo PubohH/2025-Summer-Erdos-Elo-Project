{
 "cells": [
  {
   "cell_type": "markdown",
   "id": "bb9f5410",
   "metadata": {},
   "source": [
    "In this notebook, we scrape the data of professional snooker matches from 2020 to 2025 from cuetracker.net.  \n",
    "The scraped data is stored in **matches (2020-2025).csv**\n",
    "\n",
    "\n"
   ]
  },
  {
   "cell_type": "code",
   "execution_count": null,
   "id": "858faa35",
   "metadata": {},
   "outputs": [],
   "source": [
    "import requests\n",
    "from bs4 import BeautifulSoup\n",
    "import pandas as pd"
   ]
  },
  {
   "cell_type": "code",
   "execution_count": null,
   "id": "c971924b",
   "metadata": {},
   "outputs": [],
   "source": [
    "#import the csv file of tournaments information\n",
    "tournaments = pd.read_csv('tournaments (2020-2025).csv')"
   ]
  },
  {
   "cell_type": "code",
   "execution_count": null,
   "id": "61d54c89",
   "metadata": {},
   "outputs": [],
   "source": [
    "tournaments.head()"
   ]
  },
  {
   "cell_type": "code",
   "execution_count": null,
   "id": "5a47e58a",
   "metadata": {},
   "outputs": [],
   "source": [
    "#Get the professional tournaments\n",
    "prof_tourns = tournaments[tournaments['status']=='Professional']\n",
    "prof_tourns.shape"
   ]
  },
  {
   "cell_type": "markdown",
   "id": "aa7920c6",
   "metadata": {},
   "source": [
    "We have 137 professional tournaments from 2020 to 2025"
   ]
  },
  {
   "cell_type": "code",
   "execution_count": null,
   "id": "1de29c1e",
   "metadata": {},
   "outputs": [],
   "source": [
    "#\n",
    "from scrape_one_tourn import scrape_one_tourn\n",
    "matches = pd.DataFrame(\n",
    "        columns = ['Player1', 'Player2', 'Score1','Score2','Best Of', 'Round Name', 'Match Date','Tournament Name', 'Tournament id', 'Year'])\n",
    "urls = prof_tourns['url'].tolist()\n",
    "i=0\n",
    "\n",
    "for url in urls:\n",
    "    \n",
    "    matches_df = scrape_one_tourn(url)\n",
    "    matches = pd.concat([matches, matches_df], axis = 0, ignore_index=True)\n",
    "    i+=1\n",
    "\n"
   ]
  },
  {
   "cell_type": "code",
   "execution_count": null,
   "id": "deb52664",
   "metadata": {},
   "outputs": [],
   "source": [
    "matches.to_csv('matches (2020-2025).csv')"
   ]
  }
 ],
 "metadata": {
  "kernelspec": {
   "display_name": "erdos_summer_2025",
   "language": "python",
   "name": "python3"
  },
  "language_info": {
   "codemirror_mode": {
    "name": "ipython",
    "version": 3
   },
   "file_extension": ".py",
   "mimetype": "text/x-python",
   "name": "python",
   "nbconvert_exporter": "python",
   "pygments_lexer": "ipython3",
   "version": "3.12.10"
  }
 },
 "nbformat": 4,
 "nbformat_minor": 5
}
