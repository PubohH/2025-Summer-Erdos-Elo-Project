{
 "cells": [
  {
   "cell_type": "markdown",
   "id": "6441d775",
   "metadata": {},
   "source": [
    "In this notebook, we scrape the data of professional snooker tournaments from 2020 to 2025 from cuetracker.net.  \n",
    "The scraped data is stored in **tournaments (2020-2025).csv**\n",
    "\n",
    "\n"
   ]
  },
  {
   "cell_type": "code",
   "execution_count": 1,
   "id": "392988ef",
   "metadata": {},
   "outputs": [],
   "source": [
    "import requests\n",
    "from bs4 import BeautifulSoup\n",
    "import pandas as pd"
   ]
  },
  {
   "cell_type": "code",
   "execution_count": 2,
   "id": "0e8701ec",
   "metadata": {},
   "outputs": [],
   "source": [
    "#Create a pandas dataframe to store the information of tournaments for all years\n",
    "tournaments_info = pd.DataFrame(columns = ['id', 'year', 'url', 'name', 'status', 'category', 'city', 'country'])"
   ]
  },
  {
   "cell_type": "code",
   "execution_count": 3,
   "id": "103d72c5",
   "metadata": {},
   "outputs": [],
   "source": [
    "\n",
    "def get_tournaments(url):\n",
    "    #Create a pandas dataframe to store the information of tournaments of a specific year\n",
    "    tourns = pd.DataFrame(columns = ['id', 'year', 'url', 'name', 'status', 'category', 'city', 'country'])\n",
    "\n",
    "    response = requests.get(url)\n",
    "\n",
    "    if response.status_code != 200:\n",
    "        return None\n",
    "    \n",
    "    soup = BeautifulSoup(response.text, 'html.parser')\n",
    "\n",
    "\n",
    "    #Return a list of tournaments\n",
    "    tournaments = soup.find_all('tr')\n",
    "    #Loop through the list\n",
    "    i = 0\n",
    "    for tournament in tournaments:\n",
    "        data = []\n",
    "\n",
    "        #Get the id, year and url of the tournament\n",
    "        link = tournament.find('a')\n",
    "        href = link.get('href')\n",
    "        href_list = href.split('/')\n",
    "        id = href_list[-1]\n",
    "        year = href_list[-2]\n",
    "\n",
    "        #Store the id, year and url\n",
    "        data.extend([id, year, href])\n",
    "        \n",
    "        #Get the rest information\n",
    "        infos = tournament.find_all('td')\n",
    "        for info in infos:\n",
    "            data.append(info.text.strip())\n",
    "        #Add the data to our dataframe\n",
    "        tourns.loc[i] = data\n",
    "        i+=1\n",
    "    return tourns\n",
    "\n"
   ]
  },
  {
   "cell_type": "code",
   "execution_count": 4,
   "id": "935ecf71",
   "metadata": {},
   "outputs": [],
   "source": [
    "#Get tournament information from 2020 to 2025\n",
    "for i in range(2020, 2026):\n",
    "    url = f'https://cuetracker.net/tournaments/{i}'\n",
    "    tourns = get_tournaments(url)\n",
    "    tournaments_info = pd.concat([tournaments_info, tourns], ignore_index=True)\n"
   ]
  },
  {
   "cell_type": "code",
   "execution_count": null,
   "id": "3be2fd46",
   "metadata": {},
   "outputs": [],
   "source": [
    "#Store the information as csv file\n",
    "tournaments_info.to_csv('tournaments (2020-2025).csv')"
   ]
  }
 ],
 "metadata": {
  "kernelspec": {
   "display_name": "erdos_summer_2025",
   "language": "python",
   "name": "python3"
  },
  "language_info": {
   "codemirror_mode": {
    "name": "ipython",
    "version": 3
   },
   "file_extension": ".py",
   "mimetype": "text/x-python",
   "name": "python",
   "nbconvert_exporter": "python",
   "pygments_lexer": "ipython3",
   "version": "3.12.10"
  }
 },
 "nbformat": 4,
 "nbformat_minor": 5
}
