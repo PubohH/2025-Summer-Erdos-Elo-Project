{
 "cells": [
  {
   "cell_type": "markdown",
   "id": "3745e195",
   "metadata": {},
   "source": [
    "In this notebook, we clean the column 'player1_name' and 'player2_name' of our data set mathces.csv."
   ]
  },
  {
   "cell_type": "code",
   "execution_count": 1,
   "id": "dc7b24ed",
   "metadata": {},
   "outputs": [],
   "source": [
    "import pandas as pd\n",
    "import numpy as np"
   ]
  },
  {
   "cell_type": "code",
   "execution_count": 2,
   "id": "ca8c631b",
   "metadata": {},
   "outputs": [
    {
     "data": {
      "text/html": [
       "<div>\n",
       "<style scoped>\n",
       "    .dataframe tbody tr th:only-of-type {\n",
       "        vertical-align: middle;\n",
       "    }\n",
       "\n",
       "    .dataframe tbody tr th {\n",
       "        vertical-align: top;\n",
       "    }\n",
       "\n",
       "    .dataframe thead th {\n",
       "        text-align: right;\n",
       "    }\n",
       "</style>\n",
       "<table border=\"1\" class=\"dataframe\">\n",
       "  <thead>\n",
       "    <tr style=\"text-align: right;\">\n",
       "      <th></th>\n",
       "      <th>index</th>\n",
       "      <th>tournament_id</th>\n",
       "      <th>match_id</th>\n",
       "      <th>date</th>\n",
       "      <th>stage</th>\n",
       "      <th>best_of</th>\n",
       "      <th>player1_name</th>\n",
       "      <th>player1_url</th>\n",
       "      <th>player2_name</th>\n",
       "      <th>player2_url</th>\n",
       "      <th>score1</th>\n",
       "      <th>score2</th>\n",
       "      <th>frames_scores</th>\n",
       "      <th>is_walkover</th>\n",
       "      <th>status</th>\n",
       "      <th>total</th>\n",
       "      <th>year</th>\n",
       "      <th>sorted_id</th>\n",
       "    </tr>\n",
       "  </thead>\n",
       "  <tbody>\n",
       "    <tr>\n",
       "      <th>0</th>\n",
       "      <td>0</td>\n",
       "      <td>753</td>\n",
       "      <td>82766</td>\n",
       "      <td>NaN</td>\n",
       "      <td>Round 1</td>\n",
       "      <td>17</td>\n",
       "      <td>Colin Roscoe</td>\n",
       "      <td>https://cuetracker.net/players/colin-roscoe</td>\n",
       "      <td>Jackie Rea</td>\n",
       "      <td>https://cuetracker.net/players/jackie-rea</td>\n",
       "      <td>9</td>\n",
       "      <td>6</td>\n",
       "      <td>34-63; 40-56; 33-68; 70(58)-47; 64-23; 94(62)-...</td>\n",
       "      <td>False</td>\n",
       "      <td>Professional</td>\n",
       "      <td>15</td>\n",
       "      <td>1982</td>\n",
       "      <td>1</td>\n",
       "    </tr>\n",
       "    <tr>\n",
       "      <th>1</th>\n",
       "      <td>1</td>\n",
       "      <td>753</td>\n",
       "      <td>82770</td>\n",
       "      <td>NaN</td>\n",
       "      <td>Round 1</td>\n",
       "      <td>17</td>\n",
       "      <td>Tommy Murphy</td>\n",
       "      <td>https://cuetracker.net/players/tommy-murphy</td>\n",
       "      <td>Clive Everton</td>\n",
       "      <td>https://cuetracker.net/players/clive-everton</td>\n",
       "      <td>9</td>\n",
       "      <td>4</td>\n",
       "      <td>69(59)-24; 77-34; 77-64; 58-52; 11-68; 37-62; ...</td>\n",
       "      <td>False</td>\n",
       "      <td>Professional</td>\n",
       "      <td>13</td>\n",
       "      <td>1982</td>\n",
       "      <td>1</td>\n",
       "    </tr>\n",
       "    <tr>\n",
       "      <th>2</th>\n",
       "      <td>2</td>\n",
       "      <td>753</td>\n",
       "      <td>82771</td>\n",
       "      <td>NaN</td>\n",
       "      <td>Round 1</td>\n",
       "      <td>17</td>\n",
       "      <td>Vic Harris</td>\n",
       "      <td>https://cuetracker.net/players/vic-harris</td>\n",
       "      <td>Marcus Owen</td>\n",
       "      <td>https://cuetracker.net/players/marcus-owen</td>\n",
       "      <td>9</td>\n",
       "      <td>4</td>\n",
       "      <td>36-40; 71(69)-43; 63-18; 14-87; 65-37; 35-92; ...</td>\n",
       "      <td>False</td>\n",
       "      <td>Professional</td>\n",
       "      <td>13</td>\n",
       "      <td>1982</td>\n",
       "      <td>1</td>\n",
       "    </tr>\n",
       "    <tr>\n",
       "      <th>3</th>\n",
       "      <td>3</td>\n",
       "      <td>753</td>\n",
       "      <td>82765</td>\n",
       "      <td>NaN</td>\n",
       "      <td>Round 1</td>\n",
       "      <td>17</td>\n",
       "      <td>Bob Harris</td>\n",
       "      <td>https://cuetracker.net/players/bob-harris</td>\n",
       "      <td>Graham Cripsey</td>\n",
       "      <td>https://cuetracker.net/players/graham-cripsey</td>\n",
       "      <td>9</td>\n",
       "      <td>6</td>\n",
       "      <td>78-61; 76-44; 65(59)-72; 29-90; 66-57; 88(65)-...</td>\n",
       "      <td>False</td>\n",
       "      <td>Professional</td>\n",
       "      <td>15</td>\n",
       "      <td>1982</td>\n",
       "      <td>1</td>\n",
       "    </tr>\n",
       "    <tr>\n",
       "      <th>4</th>\n",
       "      <td>4</td>\n",
       "      <td>753</td>\n",
       "      <td>82767</td>\n",
       "      <td>NaN</td>\n",
       "      <td>Round 1</td>\n",
       "      <td>17</td>\n",
       "      <td>Geoff Foulds</td>\n",
       "      <td>https://cuetracker.net/players/geoff-foulds</td>\n",
       "      <td>Matt Gibson</td>\n",
       "      <td>https://cuetracker.net/players/matt-gibson</td>\n",
       "      <td>9</td>\n",
       "      <td>3</td>\n",
       "      <td>30-77; 58-11; 50-76; 58-14; 42-72; 59-36; 53-1...</td>\n",
       "      <td>False</td>\n",
       "      <td>Professional</td>\n",
       "      <td>12</td>\n",
       "      <td>1982</td>\n",
       "      <td>1</td>\n",
       "    </tr>\n",
       "  </tbody>\n",
       "</table>\n",
       "</div>"
      ],
      "text/plain": [
       "   index  tournament_id  match_id date    stage  best_of  player1_name  \\\n",
       "0      0            753     82766  NaN  Round 1       17  Colin Roscoe   \n",
       "1      1            753     82770  NaN  Round 1       17  Tommy Murphy   \n",
       "2      2            753     82771  NaN  Round 1       17    Vic Harris   \n",
       "3      3            753     82765  NaN  Round 1       17    Bob Harris   \n",
       "4      4            753     82767  NaN  Round 1       17  Geoff Foulds   \n",
       "\n",
       "                                   player1_url    player2_name  \\\n",
       "0  https://cuetracker.net/players/colin-roscoe      Jackie Rea   \n",
       "1  https://cuetracker.net/players/tommy-murphy   Clive Everton   \n",
       "2    https://cuetracker.net/players/vic-harris     Marcus Owen   \n",
       "3    https://cuetracker.net/players/bob-harris  Graham Cripsey   \n",
       "4  https://cuetracker.net/players/geoff-foulds     Matt Gibson   \n",
       "\n",
       "                                     player2_url  score1  score2  \\\n",
       "0      https://cuetracker.net/players/jackie-rea       9       6   \n",
       "1   https://cuetracker.net/players/clive-everton       9       4   \n",
       "2     https://cuetracker.net/players/marcus-owen       9       4   \n",
       "3  https://cuetracker.net/players/graham-cripsey       9       6   \n",
       "4     https://cuetracker.net/players/matt-gibson       9       3   \n",
       "\n",
       "                                       frames_scores  is_walkover  \\\n",
       "0  34-63; 40-56; 33-68; 70(58)-47; 64-23; 94(62)-...        False   \n",
       "1  69(59)-24; 77-34; 77-64; 58-52; 11-68; 37-62; ...        False   \n",
       "2  36-40; 71(69)-43; 63-18; 14-87; 65-37; 35-92; ...        False   \n",
       "3  78-61; 76-44; 65(59)-72; 29-90; 66-57; 88(65)-...        False   \n",
       "4  30-77; 58-11; 50-76; 58-14; 42-72; 59-36; 53-1...        False   \n",
       "\n",
       "         status  total  year  sorted_id  \n",
       "0  Professional     15  1982          1  \n",
       "1  Professional     13  1982          1  \n",
       "2  Professional     13  1982          1  \n",
       "3  Professional     15  1982          1  \n",
       "4  Professional     12  1982          1  "
      ]
     },
     "execution_count": 2,
     "metadata": {},
     "output_type": "execute_result"
    }
   ],
   "source": [
    "#import matches_v1.csv\n",
    "matches = pd.read_csv('/Users/tliu/Desktop/Erdos Project/Data/Kaggle Data/matches (1982-2020) v1.csv')\n",
    "matches.head()"
   ]
  },
  {
   "cell_type": "code",
   "execution_count": 3,
   "id": "46a75421",
   "metadata": {},
   "outputs": [
    {
     "data": {
      "text/plain": [
       "75413       A Bulajiang\n",
       "4472             A Chan\n",
       "95157    Aaron Busuttil\n",
       "73241    Aaron Busuttil\n",
       "95216    Aaron Busuttil\n",
       "              ...      \n",
       "75362       Zhu Yinghui\n",
       "79154       Zhu Yinghui\n",
       "77884       Zhu Yinghui\n",
       "77451        Zou Junhai\n",
       "77903        Zou Junhai\n",
       "Name: player1_name, Length: 100241, dtype: object"
      ]
     },
     "execution_count": 3,
     "metadata": {},
     "output_type": "execute_result"
    }
   ],
   "source": [
    "matches['player1_name'].sort_values()"
   ]
  },
  {
   "cell_type": "markdown",
   "id": "fc774872",
   "metadata": {},
   "source": [
    "Some names include numbers and country names."
   ]
  },
  {
   "cell_type": "code",
   "execution_count": 4,
   "id": "fe50f452",
   "metadata": {},
   "outputs": [],
   "source": [
    "#import country list from players_r.csv file\n",
    "players_r = pd.read_csv('Raw Data/players_r.csv')\n",
    "country_list = players_r['country'].str.lower()"
   ]
  },
  {
   "cell_type": "code",
   "execution_count": 5,
   "id": "aae3ce91",
   "metadata": {},
   "outputs": [
    {
     "data": {
      "text/plain": [
       "0    united arab emirates\n",
       "1                 bahrain\n",
       "2            saudi arabia\n",
       "3                 denmark\n",
       "4                  norway\n",
       "Name: country, dtype: object"
      ]
     },
     "execution_count": 5,
     "metadata": {},
     "output_type": "execute_result"
    }
   ],
   "source": [
    "country_list[:5]"
   ]
  },
  {
   "cell_type": "code",
   "execution_count": 6,
   "id": "3a55fef1",
   "metadata": {},
   "outputs": [
    {
     "data": {
      "text/plain": [
       "False"
      ]
     },
     "execution_count": 6,
     "metadata": {},
     "output_type": "execute_result"
    }
   ],
   "source": [
    "'mark williams' in country_list"
   ]
  },
  {
   "cell_type": "code",
   "execution_count": 7,
   "id": "3d39a326",
   "metadata": {},
   "outputs": [],
   "source": [
    "#This is a function that cleans the columns of player names by \n",
    "#1. removing '-'\n",
    "#2. removing numbers\n",
    "#3. removing country names\n",
    "def clean_name(s):\n",
    "    arr = s.split()\n",
    "    if len(arr) == 0:\n",
    "        return s\n",
    "    if arr[0].isdigit():\n",
    "        arr = arr[1:]\n",
    "    while arr[0] == '-':\n",
    "        arr = arr[1:]\n",
    "    if arr[0].lower() in country_list:\n",
    "        arr = arr[1:]\n",
    "    if len(arr)>1:\n",
    "        combo2 = arr[0].lower() +' ' + arr[1].lower()\n",
    "        if combo2.lower() in country_list:\n",
    "            arr = arr[2:]\n",
    "    if len(arr)>2:\n",
    "        combo3 = arr[0].lower()+' ' + arr[1].lower() + ' ' +arr[2].lower() \n",
    "        if combo3.lower() in country_list:\n",
    "            arr = arr[3:]\n",
    "        \n",
    "    out = arr[0]\n",
    "    for i in range(len(arr)-1):\n",
    "        out += (' '+arr[i+1])\n",
    "    return out\n"
   ]
  },
  {
   "cell_type": "code",
   "execution_count": 8,
   "id": "b32a7e6d",
   "metadata": {},
   "outputs": [],
   "source": [
    "matches['player1_name'] = matches['player1_name'].apply(clean_name)\n",
    "matches['player2_name'] = matches['player2_name'].apply(clean_name)"
   ]
  },
  {
   "cell_type": "code",
   "execution_count": 9,
   "id": "276e3723",
   "metadata": {},
   "outputs": [],
   "source": [
    "#Drop unnecessary columns\n",
    "matches.drop(['index', 'sorted_id'], axis = 1, inplace=True)"
   ]
  },
  {
   "cell_type": "code",
   "execution_count": 10,
   "id": "f48436f8",
   "metadata": {},
   "outputs": [],
   "source": [
    "matches.to_csv('matches (1982-2020) v2.csv')"
   ]
  }
 ],
 "metadata": {
  "kernelspec": {
   "display_name": "erdos_summer_2025",
   "language": "python",
   "name": "python3"
  },
  "language_info": {
   "codemirror_mode": {
    "name": "ipython",
    "version": 3
   },
   "file_extension": ".py",
   "mimetype": "text/x-python",
   "name": "python",
   "nbconvert_exporter": "python",
   "pygments_lexer": "ipython3",
   "version": "3.12.10"
  }
 },
 "nbformat": 4,
 "nbformat_minor": 5
}
