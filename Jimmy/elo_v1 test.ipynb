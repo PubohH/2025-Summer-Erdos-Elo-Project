{
 "cells": [
  {
   "cell_type": "code",
   "execution_count": 12,
   "id": "341abd34",
   "metadata": {},
   "outputs": [],
   "source": [
    "import pandas as pd\n",
    "import numpy as np\n"
   ]
  },
  {
   "cell_type": "code",
   "execution_count": 13,
   "id": "c78683f9",
   "metadata": {},
   "outputs": [],
   "source": [
    "matches = pd.read_csv('matches_v2.csv')"
   ]
  },
  {
   "cell_type": "code",
   "execution_count": 14,
   "id": "cc0371d6",
   "metadata": {},
   "outputs": [
    {
     "data": {
      "text/html": [
       "<div>\n",
       "<style scoped>\n",
       "    .dataframe tbody tr th:only-of-type {\n",
       "        vertical-align: middle;\n",
       "    }\n",
       "\n",
       "    .dataframe tbody tr th {\n",
       "        vertical-align: top;\n",
       "    }\n",
       "\n",
       "    .dataframe thead th {\n",
       "        text-align: right;\n",
       "    }\n",
       "</style>\n",
       "<table border=\"1\" class=\"dataframe\">\n",
       "  <thead>\n",
       "    <tr style=\"text-align: right;\">\n",
       "      <th></th>\n",
       "      <th>Unnamed: 0</th>\n",
       "      <th>tournament_id</th>\n",
       "      <th>match_id</th>\n",
       "      <th>date</th>\n",
       "      <th>stage</th>\n",
       "      <th>best_of</th>\n",
       "      <th>player1_name</th>\n",
       "      <th>player1_url</th>\n",
       "      <th>player2_name</th>\n",
       "      <th>player2_url</th>\n",
       "      <th>score1</th>\n",
       "      <th>score2</th>\n",
       "      <th>frames_scores</th>\n",
       "      <th>is_walkover</th>\n",
       "      <th>status</th>\n",
       "      <th>total</th>\n",
       "      <th>year</th>\n",
       "    </tr>\n",
       "  </thead>\n",
       "  <tbody>\n",
       "    <tr>\n",
       "      <th>0</th>\n",
       "      <td>0</td>\n",
       "      <td>753</td>\n",
       "      <td>82766</td>\n",
       "      <td>NaN</td>\n",
       "      <td>Round 1</td>\n",
       "      <td>17</td>\n",
       "      <td>Colin Roscoe</td>\n",
       "      <td>https://cuetracker.net/players/colin-roscoe</td>\n",
       "      <td>Jackie Rea</td>\n",
       "      <td>https://cuetracker.net/players/jackie-rea</td>\n",
       "      <td>9</td>\n",
       "      <td>6</td>\n",
       "      <td>34-63; 40-56; 33-68; 70(58)-47; 64-23; 94(62)-...</td>\n",
       "      <td>False</td>\n",
       "      <td>Professional</td>\n",
       "      <td>15</td>\n",
       "      <td>1982</td>\n",
       "    </tr>\n",
       "    <tr>\n",
       "      <th>1</th>\n",
       "      <td>1</td>\n",
       "      <td>753</td>\n",
       "      <td>82770</td>\n",
       "      <td>NaN</td>\n",
       "      <td>Round 1</td>\n",
       "      <td>17</td>\n",
       "      <td>Tommy Murphy</td>\n",
       "      <td>https://cuetracker.net/players/tommy-murphy</td>\n",
       "      <td>Clive Everton</td>\n",
       "      <td>https://cuetracker.net/players/clive-everton</td>\n",
       "      <td>9</td>\n",
       "      <td>4</td>\n",
       "      <td>69(59)-24; 77-34; 77-64; 58-52; 11-68; 37-62; ...</td>\n",
       "      <td>False</td>\n",
       "      <td>Professional</td>\n",
       "      <td>13</td>\n",
       "      <td>1982</td>\n",
       "    </tr>\n",
       "    <tr>\n",
       "      <th>2</th>\n",
       "      <td>2</td>\n",
       "      <td>753</td>\n",
       "      <td>82771</td>\n",
       "      <td>NaN</td>\n",
       "      <td>Round 1</td>\n",
       "      <td>17</td>\n",
       "      <td>Vic Harris</td>\n",
       "      <td>https://cuetracker.net/players/vic-harris</td>\n",
       "      <td>Marcus Owen</td>\n",
       "      <td>https://cuetracker.net/players/marcus-owen</td>\n",
       "      <td>9</td>\n",
       "      <td>4</td>\n",
       "      <td>36-40; 71(69)-43; 63-18; 14-87; 65-37; 35-92; ...</td>\n",
       "      <td>False</td>\n",
       "      <td>Professional</td>\n",
       "      <td>13</td>\n",
       "      <td>1982</td>\n",
       "    </tr>\n",
       "    <tr>\n",
       "      <th>3</th>\n",
       "      <td>3</td>\n",
       "      <td>753</td>\n",
       "      <td>82765</td>\n",
       "      <td>NaN</td>\n",
       "      <td>Round 1</td>\n",
       "      <td>17</td>\n",
       "      <td>Bob Harris</td>\n",
       "      <td>https://cuetracker.net/players/bob-harris</td>\n",
       "      <td>Graham Cripsey</td>\n",
       "      <td>https://cuetracker.net/players/graham-cripsey</td>\n",
       "      <td>9</td>\n",
       "      <td>6</td>\n",
       "      <td>78-61; 76-44; 65(59)-72; 29-90; 66-57; 88(65)-...</td>\n",
       "      <td>False</td>\n",
       "      <td>Professional</td>\n",
       "      <td>15</td>\n",
       "      <td>1982</td>\n",
       "    </tr>\n",
       "    <tr>\n",
       "      <th>4</th>\n",
       "      <td>4</td>\n",
       "      <td>753</td>\n",
       "      <td>82767</td>\n",
       "      <td>NaN</td>\n",
       "      <td>Round 1</td>\n",
       "      <td>17</td>\n",
       "      <td>Geoff Foulds</td>\n",
       "      <td>https://cuetracker.net/players/geoff-foulds</td>\n",
       "      <td>Matt Gibson</td>\n",
       "      <td>https://cuetracker.net/players/matt-gibson</td>\n",
       "      <td>9</td>\n",
       "      <td>3</td>\n",
       "      <td>30-77; 58-11; 50-76; 58-14; 42-72; 59-36; 53-1...</td>\n",
       "      <td>False</td>\n",
       "      <td>Professional</td>\n",
       "      <td>12</td>\n",
       "      <td>1982</td>\n",
       "    </tr>\n",
       "  </tbody>\n",
       "</table>\n",
       "</div>"
      ],
      "text/plain": [
       "   Unnamed: 0  tournament_id  match_id date    stage  best_of  player1_name  \\\n",
       "0           0            753     82766  NaN  Round 1       17  Colin Roscoe   \n",
       "1           1            753     82770  NaN  Round 1       17  Tommy Murphy   \n",
       "2           2            753     82771  NaN  Round 1       17    Vic Harris   \n",
       "3           3            753     82765  NaN  Round 1       17    Bob Harris   \n",
       "4           4            753     82767  NaN  Round 1       17  Geoff Foulds   \n",
       "\n",
       "                                   player1_url    player2_name  \\\n",
       "0  https://cuetracker.net/players/colin-roscoe      Jackie Rea   \n",
       "1  https://cuetracker.net/players/tommy-murphy   Clive Everton   \n",
       "2    https://cuetracker.net/players/vic-harris     Marcus Owen   \n",
       "3    https://cuetracker.net/players/bob-harris  Graham Cripsey   \n",
       "4  https://cuetracker.net/players/geoff-foulds     Matt Gibson   \n",
       "\n",
       "                                     player2_url  score1  score2  \\\n",
       "0      https://cuetracker.net/players/jackie-rea       9       6   \n",
       "1   https://cuetracker.net/players/clive-everton       9       4   \n",
       "2     https://cuetracker.net/players/marcus-owen       9       4   \n",
       "3  https://cuetracker.net/players/graham-cripsey       9       6   \n",
       "4     https://cuetracker.net/players/matt-gibson       9       3   \n",
       "\n",
       "                                       frames_scores  is_walkover  \\\n",
       "0  34-63; 40-56; 33-68; 70(58)-47; 64-23; 94(62)-...        False   \n",
       "1  69(59)-24; 77-34; 77-64; 58-52; 11-68; 37-62; ...        False   \n",
       "2  36-40; 71(69)-43; 63-18; 14-87; 65-37; 35-92; ...        False   \n",
       "3  78-61; 76-44; 65(59)-72; 29-90; 66-57; 88(65)-...        False   \n",
       "4  30-77; 58-11; 50-76; 58-14; 42-72; 59-36; 53-1...        False   \n",
       "\n",
       "         status  total  year  \n",
       "0  Professional     15  1982  \n",
       "1  Professional     13  1982  \n",
       "2  Professional     13  1982  \n",
       "3  Professional     15  1982  \n",
       "4  Professional     12  1982  "
      ]
     },
     "execution_count": 14,
     "metadata": {},
     "output_type": "execute_result"
    }
   ],
   "source": [
    "matches.head()"
   ]
  },
  {
   "cell_type": "code",
   "execution_count": 15,
   "id": "4f93b94d",
   "metadata": {},
   "outputs": [],
   "source": [
    "#We only keep the columns ['player1_name', 'player2_name', 'score1', 'score2', 'best_of', 'year'] in this notebook.\n",
    "matches = matches[['player1_name', 'player2_name', 'score1', 'score2', 'best_of', 'year']]"
   ]
  },
  {
   "cell_type": "code",
   "execution_count": 16,
   "id": "131aad7d",
   "metadata": {},
   "outputs": [],
   "source": [
    "#rename the columns\n",
    "matches = matches.rename(columns={'player1_name': 'player1', 'player2_name': 'player2'})"
   ]
  },
  {
   "cell_type": "code",
   "execution_count": 17,
   "id": "6f6987ae",
   "metadata": {},
   "outputs": [
    {
     "data": {
      "text/html": [
       "<div>\n",
       "<style scoped>\n",
       "    .dataframe tbody tr th:only-of-type {\n",
       "        vertical-align: middle;\n",
       "    }\n",
       "\n",
       "    .dataframe tbody tr th {\n",
       "        vertical-align: top;\n",
       "    }\n",
       "\n",
       "    .dataframe thead th {\n",
       "        text-align: right;\n",
       "    }\n",
       "</style>\n",
       "<table border=\"1\" class=\"dataframe\">\n",
       "  <thead>\n",
       "    <tr style=\"text-align: right;\">\n",
       "      <th></th>\n",
       "      <th>player1</th>\n",
       "      <th>player2</th>\n",
       "      <th>score1</th>\n",
       "      <th>score2</th>\n",
       "      <th>best_of</th>\n",
       "      <th>year</th>\n",
       "    </tr>\n",
       "  </thead>\n",
       "  <tbody>\n",
       "    <tr>\n",
       "      <th>0</th>\n",
       "      <td>Colin Roscoe</td>\n",
       "      <td>Jackie Rea</td>\n",
       "      <td>9</td>\n",
       "      <td>6</td>\n",
       "      <td>17</td>\n",
       "      <td>1982</td>\n",
       "    </tr>\n",
       "    <tr>\n",
       "      <th>1</th>\n",
       "      <td>Tommy Murphy</td>\n",
       "      <td>Clive Everton</td>\n",
       "      <td>9</td>\n",
       "      <td>4</td>\n",
       "      <td>17</td>\n",
       "      <td>1982</td>\n",
       "    </tr>\n",
       "    <tr>\n",
       "      <th>2</th>\n",
       "      <td>Vic Harris</td>\n",
       "      <td>Marcus Owen</td>\n",
       "      <td>9</td>\n",
       "      <td>4</td>\n",
       "      <td>17</td>\n",
       "      <td>1982</td>\n",
       "    </tr>\n",
       "    <tr>\n",
       "      <th>3</th>\n",
       "      <td>Bob Harris</td>\n",
       "      <td>Graham Cripsey</td>\n",
       "      <td>9</td>\n",
       "      <td>6</td>\n",
       "      <td>17</td>\n",
       "      <td>1982</td>\n",
       "    </tr>\n",
       "    <tr>\n",
       "      <th>4</th>\n",
       "      <td>Geoff Foulds</td>\n",
       "      <td>Matt Gibson</td>\n",
       "      <td>9</td>\n",
       "      <td>3</td>\n",
       "      <td>17</td>\n",
       "      <td>1982</td>\n",
       "    </tr>\n",
       "  </tbody>\n",
       "</table>\n",
       "</div>"
      ],
      "text/plain": [
       "        player1         player2  score1  score2  best_of  year\n",
       "0  Colin Roscoe      Jackie Rea       9       6       17  1982\n",
       "1  Tommy Murphy   Clive Everton       9       4       17  1982\n",
       "2    Vic Harris     Marcus Owen       9       4       17  1982\n",
       "3    Bob Harris  Graham Cripsey       9       6       17  1982\n",
       "4  Geoff Foulds     Matt Gibson       9       3       17  1982"
      ]
     },
     "execution_count": 17,
     "metadata": {},
     "output_type": "execute_result"
    }
   ],
   "source": [
    "matches.head()"
   ]
  },
  {
   "cell_type": "code",
   "execution_count": 18,
   "id": "a797e88c",
   "metadata": {},
   "outputs": [],
   "source": [
    "#Get elo-rating for players based on match history from 1982 to 2020\n",
    "from elo_v1 import get_elo\n",
    "rating = get_elo(matches)"
   ]
  },
  {
   "cell_type": "code",
   "execution_count": 19,
   "id": "cb980c65",
   "metadata": {},
   "outputs": [
    {
     "data": {
      "text/plain": [
       "Ronnie O'Sullivan    1437.865139\n",
       "Judd Trump           1435.150045\n",
       "Neil Robertson       1409.518092\n",
       "Stephen Lee          1374.198772\n",
       "Mark Selby           1327.616450\n",
       "Barry Hawkins        1307.918309\n",
       "John Higgins         1303.656501\n",
       "Mark Allen           1276.365811\n",
       "Stuart Bingham       1268.143208\n",
       "Kyren Wilson         1257.840820\n",
       "dtype: float64"
      ]
     },
     "execution_count": 19,
     "metadata": {},
     "output_type": "execute_result"
    }
   ],
   "source": [
    "rating.sort_values(ascending=False).head(10)"
   ]
  },
  {
   "cell_type": "code",
   "execution_count": 20,
   "id": "4158d97c",
   "metadata": {},
   "outputs": [],
   "source": [
    "from elo_v1 import predict_prob, predict"
   ]
  },
  {
   "cell_type": "code",
   "execution_count": 21,
   "id": "bc32276f",
   "metadata": {},
   "outputs": [
    {
     "data": {
      "text/plain": [
       "np.float64(0.9286958543709117)"
      ]
     },
     "execution_count": 21,
     "metadata": {},
     "output_type": "execute_result"
    }
   ],
   "source": [
    "E1 = predict_prob('Judd Trump', 'Colin Roscoe', rating=rating)\n",
    "E1"
   ]
  },
  {
   "cell_type": "code",
   "execution_count": 22,
   "id": "8fb6779f",
   "metadata": {},
   "outputs": [
    {
     "name": "stdout",
     "output_type": "stream",
     "text": [
      "Our prediction: winner is Judd Trump. Score is 3-6.\n"
     ]
    },
    {
     "data": {
      "text/plain": [
       "(np.int64(3), 6, 'Judd Trump')"
      ]
     },
     "execution_count": 22,
     "metadata": {},
     "output_type": "execute_result"
    }
   ],
   "source": [
    "predict('Mark Williams', 'Judd Trump', rating, 11)"
   ]
  }
 ],
 "metadata": {
  "kernelspec": {
   "display_name": "erdos_summer_2025",
   "language": "python",
   "name": "python3"
  },
  "language_info": {
   "codemirror_mode": {
    "name": "ipython",
    "version": 3
   },
   "file_extension": ".py",
   "mimetype": "text/x-python",
   "name": "python",
   "nbconvert_exporter": "python",
   "pygments_lexer": "ipython3",
   "version": "3.12.10"
  }
 },
 "nbformat": 4,
 "nbformat_minor": 5
}
